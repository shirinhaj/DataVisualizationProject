{
 "cells": [
  {
   "cell_type": "markdown",
   "metadata": {},
   "source": [
    "<div style=\"font-size: 20px;\">\n",
    "#Python Data Visualization and GUI Setup"
   ]
  },
  {
   "cell_type": "markdown",
   "metadata": {},
   "source": [
    "In this Python script, we are using various libraries to perform data visualization and set up a Graphical User Interface (GUI) using Tkinter."
   ]
  },
  {
   "cell_type": "markdown",
   "metadata": {},
   "source": [
    "Importing necessary modules and libraries: This part imports required Libraries."
   ]
  },
  {
   "cell_type": "code",
   "execution_count": 1,
   "metadata": {},
   "outputs": [],
   "source": [
    "import pandas as pd\n",
    "import os\n",
    "import csv\n",
    "import random\n",
    "import matplotlib.pyplot as plt\n",
    "import tkinter as tk\n",
    "import seaborn as sns\n",
    "from matplotlib.backends.backend_tkagg import FigureCanvasTkAgg\n",
    "from tkinter import Radiobutton, StringVar"
   ]
  },
  {
   "cell_type": "markdown",
   "metadata": {},
   "source": [
    "Defining the variables: This part defines various variables and data structures to manage data related to gesture location mapping for the data visualization."
   ]
  },
  {
   "cell_type": "code",
   "execution_count": 2,
   "metadata": {},
   "outputs": [],
   "source": [
    "base_folderPath = 'Change to the path to the base folder containing the dataset folder'\n",
    "Merged_fileNmae = 'merged.csv'\n",
    "color_map = {\n",
    "    '1': 'red',\n",
    "    '2': 'blue',\n",
    "    '3': 'green',\n",
    "    '4': 'black',\n",
    "    'a': 'magenta',\n",
    "    'b': 'yellow',\n",
    "    'c': 'pink',\n",
    "    'circleLeft': 'orange',\n",
    "    'square': 'darkgreen',\n",
    "    'triangle': 'purple'\n",
    "}\n",
    "participant_list = ['1', '2', '3', '4', '5', '6', '7', '8', '9', '10']\n",
    "gesture_list = ['triangle', 'square', 'circleLeft', 'a', 'b', 'c', '1', '2', '3', '4']\n",
    "output_fileName = 'merged.csv'\n",
    "repetition_list = ['1', '2', '3', '4', '5']  \n",
    "\n",
    "locations = ['Small bathroom', 'Bedroom closet', 'Kitchen closet', 'Kitchen', 'Bedroom 1', 'Bedroom 2', 'Deck',\n",
    "             'Dining room', 'Big bathroom', 'Laundry']\n",
    "\n",
    "# Dictionary to store the location for each participant-gesture combination\n",
    "participant_gesture_locations = {}"
   ]
  },
  {
   "cell_type": "markdown",
   "metadata": {},
   "source": [
    "Random Location Generator for Participant-Gesture Combination: This python function get_location(participant, gesture) is designed to retrieve or generate a location for a given participant-gesture combination."
   ]
  },
  {
   "cell_type": "code",
   "execution_count": 3,
   "metadata": {},
   "outputs": [],
   "source": [
    "def get_location(participant, gesture):\n",
    "    # Check if the location for this participant-gesture combination has been generated before\n",
    "    key = f\"{participant}_{gesture}\"\n",
    "    \n",
    "    if key not in participant_gesture_locations:\n",
    "        # Generate a random location from the list of locations\n",
    "        location = random.choice(locations)\n",
    "        # Store the location for this participant-gesture combination in the dictionary\n",
    "        participant_gesture_locations[key] = location\n",
    "    else:\n",
    "        # Retrieve the location for this participant-gesture combination from the dictionary\n",
    "        location = participant_gesture_locations[key]\n",
    "\n",
    "    return location"
   ]
  },
  {
   "cell_type": "markdown",
   "metadata": {},
   "source": [
    "Defining the function to create the 3D scatter plot for Participant-Gesture- Repetition: "
   ]
  },
  {
   "cell_type": "code",
   "execution_count": 4,
   "metadata": {},
   "outputs": [],
   "source": [
    "def create_plot(participant, gesture, repetition):\n",
    "\n",
    "    global Read_data  # Declare Read_data as a global variable\n",
    "\n",
    "    # Set plot_shown to False to prevent the initial plot from showing\n",
    "    plot_shown = False\n",
    "\n",
    "    # Create the folder path\n",
    "    ParBaseFolder = base_folderPath + '/Datasets/Modifiedhand_gestures'\n",
    "    Parfolder_path = f'{ParBaseFolder}/{participant}'\n",
    "\n",
    "    # Get a list of all files in the folder\n",
    "    file_list = os.listdir(Parfolder_path)\n",
    "\n",
    "    # Loop through each file and read the data\n",
    "    for file_name in file_list:\n",
    "        file_path = os.path.join(Parfolder_path, file_name)\n",
    "        file_name = os.path.basename(file_path)\n",
    "\n",
    "        # Update the basename variable for each file\n",
    "        basename = os.path.splitext(file_name)[0]\n",
    "        new_filename = csv_filename = f\"{basename}.csv\"\n",
    "\n",
    "        # Check if the file already exists in the directory\n",
    "        if os.path.isfile(new_filename):\n",
    "            # If the file already exists, add a number to the filename\n",
    "            i = 1\n",
    "            while os.path.isfile(f\"{basename}_{i}.csv\"):\n",
    "                i += 1\n",
    "                new_filename = f\"{basename}_{i}.csv\"\n",
    "\n",
    "        # Open the input file in read mode\n",
    "        with open(file_path, 'r') as input_file:\n",
    "            # Create a CSV writer to write the output file\n",
    "            first_letter = new_filename[0]\n",
    "            with open(new_filename, 'w', newline='') as output_file:\n",
    "                writer = csv.writer(output_file)\n",
    "\n",
    "                # Read the input file line by line\n",
    "                for line in input_file:\n",
    "                    # Split the line into a list using the delimiter (',')\n",
    "                    row = line.strip().split(',')\n",
    "\n",
    "                    # Add the first letter of the file name to the added column\n",
    "                    added_column1 = file_name.split('_')[0]\n",
    "                    last_letter = file_name[-5]\n",
    "\n",
    "                    # Append the added column to the row\n",
    "                    row.append(str(added_column1))\n",
    "                    row.append(last_letter)\n",
    "\n",
    "                    # Write the row to the output file\n",
    "                    writer.writerow(row)\n",
    "\n",
    "        # Read the CSV file and give each column a name\n",
    "        data = pd.read_csv(new_filename, header=None, names=['X', 'Y', 'Z', 'Type', 'Repetition'])\n",
    "        data.to_csv(new_filename, index=False)\n",
    "\n",
    "    # Get a list of all CSV files in the folder\n",
    "    file_list = [os.path.join(base_folderPath, file) for file in os.listdir(base_folderPath) if file.endswith('.csv')]\n",
    "\n",
    "    # Read each CSV file into a pandas DataFrame and concatenate them\n",
    "    merged_data = pd.concat([pd.read_csv(file) for file in file_list])\n",
    "\n",
    "    # Write the merged data to a new CSV file\n",
    "    merged_data.to_csv(output_fileName, index=False)\n",
    "\n",
    "    Read_data = pd.read_csv(output_fileName)\n",
    "    os.remove(output_fileName)\n",
    "\n",
    "    # Create a 3D plot\n",
    "    fig = plt.figure()\n",
    "    ax = fig.add_subplot(111, projection='3d')\n",
    "\n",
    "    # Select only the rows with the current gesture and repetition\n",
    "    type_data = Read_data.query(f\"Type == '{gesture}' and Repetition == {repetition}\")\n",
    "\n",
    "    ax.scatter(type_data['X'], type_data['Y'], type_data['Z'], color=color_map[gesture], label=f\"{gesture} (Repetition {repetition})\")\n",
    "    ax.set_xlabel('X')\n",
    "    ax.set_ylabel('Y')\n",
    "    ax.set_zlabel('Z')\n",
    "\n",
    "    # Loop through all files in the folder\n",
    "    for file_name in os.listdir(base_folderPath):\n",
    "        if file_name.endswith('.csv'):  # Check if the file ends with '.csv'\n",
    "            file_path2 = os.path.join(base_folderPath, file_name)  # Get the full file path\n",
    "            os.remove(file_path2)  # Delete the file\n",
    "\n",
    "    # Get the location for this participant-gesture combination\n",
    "    location = get_location(participant, gesture)\n",
    "\n",
    "    ax.text2D(0.05, 0.95, f\"Location: {location}\", transform=ax.transAxes, fontsize=14, fontname=\"Arial\")\n",
    "\n",
    "    return fig"
   ]
  },
  {
   "cell_type": "markdown",
   "metadata": {},
   "source": [
    "Defining the function to create the correlation heatmap for Participant-Gesture-\n",
    "Repetition"
   ]
  },
  {
   "cell_type": "code",
   "execution_count": 5,
   "metadata": {},
   "outputs": [],
   "source": [
    "def create_heatmap(participant, gesture, repetition, Read_data):\n",
    "    # Check if 'Repetition' column exists in Read_data\n",
    "    if 'Repetition' not in Read_data.columns:\n",
    "        print(\"Error: 'Repetition' column not found in the data.\")\n",
    "        return\n",
    "\n",
    "    # Filter the data for the selected participant, gesture, and repetition\n",
    "    filtered_data = Read_data.query(f\"Type == '{gesture}' and Repetition == {repetition}\")\n",
    "\n",
    "    # Check if the filtered_data is not empty\n",
    "    if filtered_data.empty:\n",
    "        print(\"No data available for the selected gesture and repetition.\")\n",
    "        return\n",
    "\n",
    "    # Calculate the correlation matrix\n",
    "    correlation_matrix = filtered_data[['X', 'Y', 'Z']].corr()\n",
    "\n",
    "    # Check if the correlation_matrix contains NaN values\n",
    "    if correlation_matrix.isnull().values.any():\n",
    "        print(\"Correlation matrix contains NaN values. Cannot create the heatmap.\")\n",
    "        return\n",
    "\n",
    "    plt.ioff()\n",
    "    \n",
    "    # Create the heatmap\n",
    "    plt.figure(figsize=(8, 6))\n",
    "    sns.heatmap(correlation_matrix, annot=True, cmap='coolwarm', fmt='.2f', center=0)\n",
    "    fig_heatmap = plt.figure()\n",
    "    ax_heatmap = fig_heatmap.add_subplot(111)\n",
    "\n",
    "    # Create the heatmap\n",
    "    sns.heatmap(correlation_matrix, annot=True, cmap='coolwarm', fmt='.2f', center=0, ax=ax_heatmap)\n",
    "    ax_heatmap.set_title(f'Correlation Heatmap for Participant {participant} - Gesture {gesture} - Repetition {repetition}')\n",
    "\n",
    "    return fig_heatmap"
   ]
  },
  {
   "cell_type": "markdown",
   "metadata": {},
   "source": [
    "Updating Plot with Selected Participant, Gesture, and Repetition"
   ]
  },
  {
   "cell_type": "code",
   "execution_count": 6,
   "metadata": {},
   "outputs": [],
   "source": [
    "def update_plot():\n",
    "    participant_selection = var1.get()\n",
    "    gesture_selection = var2.get()\n",
    "    repetition_selection = int(var3.get())  # Convert repetition to integer\n",
    "\n",
    "    # Clear the previous plot\n",
    "    for widget in window.winfo_children():\n",
    "        if isinstance(widget, FigureCanvasTkAgg):\n",
    "            widget.get_tk_widget().destroy()\n",
    "\n",
    "    # Update the plot and set plot_shown to True\n",
    "    fig = create_plot(participant_selection, gesture_selection, repetition_selection)\n",
    "\n",
    "    # Create a canvas widget to display the plot\n",
    "    canvas = FigureCanvasTkAgg(fig, master=window)\n",
    "    canvas.draw()\n",
    "    canvas.get_tk_widget().grid(row=1, column=0, columnspan=3, sticky=\"nsew\")\n"
   ]
  },
  {
   "cell_type": "markdown",
   "metadata": {},
   "source": [
    "Handling Dropdown Changes and Storing Radio Button Selections"
   ]
  },
  {
   "cell_type": "code",
   "execution_count": 7,
   "metadata": {},
   "outputs": [],
   "source": [
    "def dropdown_changed(*args):\n",
    "    # Check if the changed dropdown is the participant dropdown\n",
    "    if args and args[0] == var1:\n",
    "        return\n",
    "\n",
    "    # For other dropdowns (gesture and repetition), update the selected values\n",
    "    gesture_selection = var2.get()\n",
    "    repetition_selection = var3.get()\n",
    "\n",
    "    # Store the value of the radio button\n",
    "    plot_type = var4.get()"
   ]
  },
  {
   "cell_type": "markdown",
   "metadata": {},
   "source": [
    "Updating Plot Type and Displaying Scatter Plot or Heatmap"
   ]
  },
  {
   "cell_type": "code",
   "execution_count": 8,
   "metadata": {},
   "outputs": [],
   "source": [
    "def create_heatmap_button():\n",
    "    global Read_data  # Declare Read_data as a global variable\n",
    "    global plot_shown  # Declare plot_shown as a global variable\n",
    "\n",
    "    participant_selection = var1.get()\n",
    "    gesture_selection = var2.get()\n",
    "    repetition_selection = int(var3.get())  # Convert repetition to integer\n",
    "\n",
    "    # Update the Read_data variable with the latest data\n",
    "    create_plot(participant_selection, gesture_selection, repetition_selection)\n",
    "\n",
    "    # Check the value of the radio button\n",
    "    plot_type = var4.get()\n",
    "    if plot_type == \"scatter\":\n",
    "        plot_shown = True  # Set plot_shown to True to display the scatter plot\n",
    "        update_plot()\n",
    "    elif plot_type == \"heatmap\":\n",
    "        plot_shown = True  # Set plot_shown to True to display the heatmap plot\n",
    "\n",
    "        # Get the canvas widget from the window and destroy it to remove the previous plot\n",
    "        for widget in window.winfo_children():\n",
    "            if isinstance(widget, FigureCanvasTkAgg):\n",
    "                widget.get_tk_widget().destroy()\n",
    "\n",
    "        # Create the heatmap plot\n",
    "        fig_heatmap = create_heatmap(participant_selection, gesture_selection, repetition_selection, Read_data)\n",
    "\n",
    "        # Embed the heatmap plot in the Tkinter window\n",
    "        canvas_heatmap = FigureCanvasTkAgg(fig_heatmap, master=window)\n",
    "        canvas_heatmap.draw()\n",
    "        canvas_heatmap.get_tk_widget().grid(row=1, column=0, columnspan=3, sticky=\"nsew\")\n",
    "\n"
   ]
  },
  {
   "cell_type": "markdown",
   "metadata": {},
   "source": [
    "Tkinter Visualization Window with Dropdowns and Plot Update"
   ]
  },
  {
   "cell_type": "code",
   "execution_count": null,
   "metadata": {},
   "outputs": [],
   "source": [
    "window = tk.Tk()\n",
    "window.title(\"The visualization window\")\n",
    "\n",
    "# Create a custom font \n",
    "# Set a custom font for the entire application\n",
    "custom_font = (\"Arial\", 12)\n",
    "window.option_add(\"*Font\", custom_font)\n",
    "\n",
    "# Configure the grid to resize the canvas with the window\n",
    "window.rowconfigure(1, weight=1)\n",
    "window.columnconfigure(0, weight=1)\n",
    "\n",
    "# Create a frame to hold the dropdowns\n",
    "dropdown_frame = tk.Frame(window, bg=\"lightblue\")\n",
    "dropdown_frame.grid(row=0, column=0, columnspan=2)\n",
    "\n",
    "# Create the dropdown menus\n",
    "# Dropdown 1\n",
    "var1 = tk.StringVar()\n",
    "var1.set(participant_list[0])  # Set as default value\n",
    "\n",
    "label1 = tk.Label(dropdown_frame, text=\"Participant number:\", bg=\"lightblue\")\n",
    "label1.grid(row=0, column=0, sticky=\"E\")\n",
    "dropdown1 = tk.OptionMenu(dropdown_frame, var1, *participant_list, command=dropdown_changed)\n",
    "dropdown1.config(highlightbackground=\"lightblue\")\n",
    "dropdown1.grid(row=0, column=1, sticky=\"W\")\n",
    "\n",
    "# Dropdown 2\n",
    "var2 = tk.StringVar()\n",
    "var2.set(gesture_list[0])  # default value\n",
    "\n",
    "label2 = tk.Label(dropdown_frame, text=\"Gesture type:\", bg=\"lightblue\")\n",
    "label2.grid(row=1, column=0, sticky=\"E\")\n",
    "dropdown2 = tk.OptionMenu(dropdown_frame, var2, *gesture_list, command=dropdown_changed)\n",
    "dropdown2.config(highlightbackground=\"lightblue\")\n",
    "dropdown2.grid(row=1, column=1, sticky=\"W\")\n",
    "\n",
    "# Dropdown 3\n",
    "var3 = tk.StringVar()\n",
    "var3.set(repetition_list[0])  # default value\n",
    "\n",
    "label3 = tk.Label(dropdown_frame, text=\"Repetition:\", bg=\"lightblue\")\n",
    "label3.grid(row=2, column=0, sticky=\"E\")\n",
    "dropdown3 = tk.OptionMenu(dropdown_frame, var3, *repetition_list, command=dropdown_changed)\n",
    "dropdown3.config(highlightbackground=\"lightblue\")\n",
    "dropdown3.grid(row=2, column=1, sticky=\"W\")\n",
    "\n",
    "# Create the radio buttons\n",
    "var4 = StringVar()\n",
    "var4.set(\"scatter\")  # Set the default value to \"scatter\"\n",
    "\n",
    "scatter_radio = Radiobutton(dropdown_frame, text=\"Scatter Plot\", variable=var4, value=\"scatter\")\n",
    "scatter_radio.grid(row=3, column=0, sticky=\"WE\")\n",
    "\n",
    "heatmap_radio = Radiobutton(dropdown_frame, text=\"Heatmap\", variable=var4, value=\"heatmap\")\n",
    "heatmap_radio.grid(row=3, column=1, sticky=\"WE\")\n",
    "\n",
    "# Center the dropdowns within the top panel\n",
    "dropdown_frame.grid_rowconfigure(0, weight=1)\n",
    "dropdown_frame.grid_rowconfigure(1, weight=2)\n",
    "dropdown_frame.grid_rowconfigure(2, weight=1)\n",
    "dropdown_frame.grid_columnconfigure(0, weight=1)\n",
    "dropdown_frame.grid_columnconfigure(1, weight=1)\n",
    "\n",
    "\n",
    "heatmap_button= tk.Button(dropdown_frame, text=\"Update the plot\", command=create_heatmap_button, font=(\"Arial\", 12), bg=\"red\", fg=\"white\")\n",
    "heatmap_button.grid(row=4, column=0, columnspan=2, sticky=\"WE\")\n",
    "initial_fig = create_plot(participant_list[0], gesture_list[0], repetition_list[0])\n",
    "initial_canvas = FigureCanvasTkAgg(initial_fig, master=window)\n",
    "initial_canvas.draw()\n",
    "initial_canvas.get_tk_widget().grid(row=1, column=0, columnspan=3, sticky=\"nsew\")"
   ]
  },
  {
   "cell_type": "markdown",
   "metadata": {},
   "source": [
    "Tkinter Window with Custom Size and Non-Resizable Property"
   ]
  },
  {
   "cell_type": "code",
   "execution_count": null,
   "metadata": {},
   "outputs": [],
   "source": [
    "# Set the window size\n",
    "window.geometry(\"800x600\")  # Replace with your desired width and height\n",
    "window.resizable(False, False)  # Disable window resizing\n",
    "\n",
    "window.mainloop()"
   ]
  }
 ],
 "metadata": {
  "kernelspec": {
   "display_name": "base",
   "language": "python",
   "name": "python3"
  },
  "language_info": {
   "codemirror_mode": {
    "name": "ipython",
    "version": 3
   },
   "file_extension": ".py",
   "mimetype": "text/x-python",
   "name": "python",
   "nbconvert_exporter": "python",
   "pygments_lexer": "ipython3",
   "version": "3.8.8"
  },
  "orig_nbformat": 4
 },
 "nbformat": 4,
 "nbformat_minor": 2
}
